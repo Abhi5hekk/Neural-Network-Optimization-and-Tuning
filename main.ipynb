{
 "cells": [
  {
   "cell_type": "markdown",
   "metadata": {},
   "source": [
    "# Neural Network Optimization and Tuning\n",
    "\n",
    "I've learned how to build computational graphs in PyTorch and compute gradients. The final piece to training a network is applying the gradients to update the network parameters. In this tutorial I shall learn how to implement a number of optimization techniques in PyTorch along with other tuning methods. "
   ]
  },
  {
   "cell_type": "code",
   "execution_count": 1,
   "metadata": {},
   "outputs": [],
   "source": [
    "import torch\n",
    "import torch.nn as nn\n",
    "import torch.nn.functional as F\n",
    "from torchvision import transforms, datasets, models\n",
    "import numpy as np\n",
    "import matplotlib.pyplot as plt\n",
    "from torch.autograd import Variable\n",
    "from collections import namedtuple\n",
    "from IPython.display import Image\n",
    "%matplotlib inline\n",
    "np.random.seed(2018)"
   ]
  },
  {
   "cell_type": "markdown",
   "metadata": {},
   "source": [
    "I uses the PyTorch dataset API to load a dataset with exactly the same properties as the MNIST handwritten digits dataset. However, instead of handwritten digits, this dataset contains images of 10 different **common clothing items**, hence the name **Fashion-MNIST** . Performance on MNIST saturates quickly with simple network architectures and optimization methods. This dataset is more difficult than MNIST and is useful to demonstrate the relative improvements of different optimization methods. \n",
    "\n",
    "Some of the characteristics are mentioned below.\n",
    "\n",
    "- 28x28 images\n",
    "- 10 classes\n",
    "- Single color channel (B&W)\n",
    "- Centered objects\n",
    "- 50000 training set members\n",
    "- 10000 test set members\n"
   ]
  },
  {
   "cell_type": "code",
   "execution_count": 2,
   "metadata": {},
   "outputs": [],
   "source": [
    "# Fashion Class that enables the Dataset download and basic transformations\n",
    "class Fashion(datasets.MNIST):\n",
    "    def __init__(self, root, train=True, transform=None, target_transform=None, download=False):\n",
    "        self.urls = [\n",
    "            'http://fashion-mnist.s3-website.eu-central-1.amazonaws.com/train-images-idx3-ubyte.gz',\n",
    "            'http://fashion-mnist.s3-website.eu-central-1.amazonaws.com/train-labels-idx1-ubyte.gz',\n",
    "            'http://fashion-mnist.s3-website.eu-central-1.amazonaws.com/t10k-images-idx3-ubyte.gz',\n",
    "            'http://fashion-mnist.s3-website.eu-central-1.amazonaws.com/t10k-labels-idx1-ubyte.gz',\n",
    "        ]\n",
    "        super(Fashion, self).__init__(\n",
    "            root, train=train, transform=transform, target_transform=target_transform, download=download\n",
    "        ) \n",
    "\n",
    "def decode_label(l):\n",
    "    return [\"Top\",\n",
    "     \"Trouser\",\n",
    "     \"Pullover\",\n",
    "     \"Dress\",\n",
    "     \"Coat\",\n",
    "     \"Sandal\",\n",
    "     \"Shirt\",\n",
    "     \"Sneaker\",\n",
    "     \"Bag\",\n",
    "     \"Ankle boot\"\n",
    "    ][l]"
   ]
  },
  {
   "cell_type": "code",
   "execution_count": 3,
   "metadata": {},
   "outputs": [
    {
     "name": "stdout",
     "output_type": "stream",
     "text": [
      "Downloading http://fashion-mnist.s3-website.eu-central-1.amazonaws.com/train-images-idx3-ubyte.gz to /tmp/data\\Fashion\\raw\\train-images-idx3-ubyte.gz\n"
     ]
    },
    {
     "name": "stderr",
     "output_type": "stream",
     "text": [
      "100%|████████████████████████████████████████████████████████████████▉| 26402816/26421880 [00:21<00:00, 1413777.52it/s]"
     ]
    },
    {
     "name": "stdout",
     "output_type": "stream",
     "text": [
      "Extracting /tmp/data\\Fashion\\raw\\train-images-idx3-ubyte.gz\n",
      "Downloading http://fashion-mnist.s3-website.eu-central-1.amazonaws.com/train-labels-idx1-ubyte.gz to /tmp/data\\Fashion\\raw\\train-labels-idx1-ubyte.gz\n"
     ]
    },
    {
     "name": "stderr",
     "output_type": "stream",
     "text": [
      "\n",
      "0it [00:00, ?it/s]\n",
      "  0%|                                                                                        | 0/29515 [00:00<?, ?it/s]\n",
      " 56%|████████████████████████████████████████▌                                | 16384/29515 [00:00<00:00, 88421.69it/s]\n",
      "32768it [00:00, 41167.17it/s]                                                                                          "
     ]
    },
    {
     "name": "stdout",
     "output_type": "stream",
     "text": [
      "Extracting /tmp/data\\Fashion\\raw\\train-labels-idx1-ubyte.gz\n",
      "Downloading http://fashion-mnist.s3-website.eu-central-1.amazonaws.com/t10k-images-idx3-ubyte.gz to /tmp/data\\Fashion\\raw\\t10k-images-idx3-ubyte.gz\n"
     ]
    },
    {
     "name": "stderr",
     "output_type": "stream",
     "text": [
      "\n",
      "0it [00:00, ?it/s]\n",
      "  0%|                                                                                      | 0/4422102 [00:00<?, ?it/s]\n",
      "  0%|▎                                                                      | 16384/4422102 [00:00<00:50, 87475.88it/s]\n",
      "  1%|▌                                                                      | 32768/4422102 [00:00<00:50, 87180.94it/s]\n",
      "  1%|▊                                                                      | 49152/4422102 [00:00<00:49, 88651.09it/s]\n",
      "  1%|█                                                                      | 65536/4422102 [00:01<00:46, 93531.35it/s]\n",
      "  3%|█▉                                                                   | 122880/4422102 [00:01<00:36, 117233.95it/s]\n",
      "  6%|███▊                                                                 | 245760/4422102 [00:01<00:27, 152022.89it/s]\n",
      " 11%|███████▍                                                             | 475136/4422102 [00:01<00:19, 205857.81it/s]\n",
      " 21%|██████████████▎                                                      | 917504/4422102 [00:01<00:12, 288285.11it/s]\n",
      " 25%|████████████████▊                                                   | 1089536/4422102 [00:01<00:08, 380286.92it/s]\n",
      " 31%|█████████████████████▍                                              | 1392640/4422102 [00:02<00:05, 515224.16it/s]\n",
      " 36%|████████████████████████▋                                           | 1605632/4422102 [00:02<00:04, 656099.63it/s]\n",
      " 44%|██████████████████████████████                                      | 1957888/4422102 [00:02<00:02, 851750.54it/s]\n",
      " 49%|█████████████████████████████████▏                                 | 2187264/4422102 [00:02<00:02, 1040496.45it/s]\n",
      " 56%|█████████████████████████████████████▋                             | 2490368/4422102 [00:02<00:01, 1289684.63it/s]\n",
      " 64%|██████████████████████████████████████████▋                        | 2818048/4422102 [00:02<00:01, 1514228.14it/s]\n",
      " 70%|███████████████████████████████████████████████                    | 3104768/4422102 [00:02<00:00, 1760631.49it/s]\n",
      " 79%|████████████████████████████████████████████████████▋              | 3473408/4422102 [00:02<00:00, 2060923.56it/s]\n",
      " 85%|████████████████████████████████████████████████████████▉          | 3760128/4422102 [00:02<00:00, 2245533.89it/s]\n",
      " 93%|██████████████████████████████████████████████████████████████▌    | 4128768/4422102 [00:03<00:00, 2510202.05it/s]\n",
      "4423680it [00:03, 1415424.47it/s]                                                                                      "
     ]
    },
    {
     "name": "stdout",
     "output_type": "stream",
     "text": [
      "Extracting /tmp/data\\Fashion\\raw\\t10k-images-idx3-ubyte.gz\n",
      "Downloading http://fashion-mnist.s3-website.eu-central-1.amazonaws.com/t10k-labels-idx1-ubyte.gz to /tmp/data\\Fashion\\raw\\t10k-labels-idx1-ubyte.gz\n"
     ]
    },
    {
     "name": "stderr",
     "output_type": "stream",
     "text": [
      "\n",
      "0it [00:00, ?it/s]\n",
      "  0%|                                                                                         | 0/5148 [00:00<?, ?it/s]\n",
      "8192it [00:00, 11354.19it/s]                                                                                           "
     ]
    },
    {
     "name": "stdout",
     "output_type": "stream",
     "text": [
      "Extracting /tmp/data\\Fashion\\raw\\t10k-labels-idx1-ubyte.gz\n",
      "Processing...\n",
      "Done!\n"
     ]
    },
    {
     "name": "stderr",
     "output_type": "stream",
     "text": [
      "\r",
      "26427392it [00:40, 1413777.52it/s]                                                                                     "
     ]
    }
   ],
   "source": [
    "train_data = Fashion('/tmp/data', train=True, download=True, transform=transforms.Compose([\n",
    "                                    transforms.ToTensor(),\n",
    "                                    transforms.Normalize((0.1307,), (0.3081,))\n",
    "                            ]))\n",
    "\n",
    "test_data = Fashion('/tmp/data', train=False, download=True, transform=transforms.Compose([\n",
    "                                   transforms.ToTensor(),\n",
    "                                   transforms.Normalize((0.1307,), (0.3081,))\n",
    "                            ]))"
   ]
  },
  {
   "cell_type": "markdown",
   "metadata": {},
   "source": [
    "## Random examples from the Fashion-MNIST dataset"
   ]
  },
  {
   "cell_type": "code",
   "execution_count": 4,
   "metadata": {},
   "outputs": [
    {
     "name": "stderr",
     "output_type": "stream",
     "text": [
      "C:\\Users\\Abhishek Singh\\Anaconda3\\lib\\site-packages\\torchvision\\datasets\\mnist.py:53: UserWarning: train_data has been renamed data\n",
      "  warnings.warn(\"train_data has been renamed data\")\n",
      "C:\\Users\\Abhishek Singh\\Anaconda3\\lib\\site-packages\\torchvision\\datasets\\mnist.py:43: UserWarning: train_labels has been renamed targets\n",
      "  warnings.warn(\"train_labels has been renamed targets\")\n"
     ]
    },
    {
     "data": {
      "image/png": "[encoded data removed]",
      "text/plain": [
       "<Figure size 720x360 with 8 Axes>"
      ]
     },
     "metadata": {
      "needs_background": "light"
     },
     "output_type": "display_data"
    }
   ],
   "source": [
    "idxs = np.random.randint(100, size=8)\n",
    "f, a = plt.subplots(2, 4, figsize=(10, 5))\n",
    "for i in range(8):\n",
    "    X = train_data.train_data[idxs[i]]\n",
    "    Y = train_data.train_labels[idxs[i]]\n",
    "    r, c = i // 4, i % 4\n",
    "    a[r][c].set_title(decode_label(Y))\n",
    "    a[r][c].axis('off')\n",
    "    a[r][c].imshow(X.numpy())\n",
    "plt.draw()"
   ]
  },
  {
   "cell_type": "markdown",
   "metadata": {},
   "source": [
    "## Build a model\n",
    "\n",
    "As I am more focussed on evaluating how the different optimization methods perform, I shall be constructing a very simple feedforward network."
   ]
  },
  {
   "cell_type": "code",
   "execution_count": 5,
   "metadata": {},
   "outputs": [
    {
     "name": "stdout",
     "output_type": "stream",
     "text": [
      "FashionModel(\n",
      "  (fc1): Linear(in_features=784, out_features=64, bias=True)\n",
      "  (fc2): Linear(in_features=64, out_features=32, bias=True)\n",
      "  (fc3): Linear(in_features=32, out_features=10, bias=True)\n",
      ")\n"
     ]
    }
   ],
   "source": [
    "class FashionModel(nn.Module):\n",
    "    def __init__(self):\n",
    "        super(FashionModel, self).__init__()\n",
    "        self.fc1 = nn.Linear(784, 64)\n",
    "        self.fc2 = nn.Linear(64, 32)\n",
    "        self.fc3 = nn.Linear(32, 10)\n",
    "    \n",
    "    def forward(self, x):\n",
    "        x = F.relu(self.fc1(x))\n",
    "        x = F.relu(self.fc2(x))\n",
    "        x = F.log_softmax(self.fc3(x))\n",
    "        return x\n",
    "print(FashionModel())"
   ]
  },
  {
   "cell_type": "markdown",
   "metadata": {},
   "source": [
    "## A Simple Optimizer in PyTorch\n",
    "\n",
    "The most simple optimization method is to update the network parameters by adding the negative of the gradient scaled by a fixed learning rate $\\eta$.\n",
    "\n",
    "$$ \\textbf{W'} \\leftarrow \\textbf{W} - \\eta \\nabla L(\\textbf{W}) $$\n",
    "\n",
    "PyTorch provides us a very simple and expressive API for creating custom optimizers. An optimizer in PyTorch subclasses `torch.optim.Optimizer` and is required to specify two methods.\n",
    "\n",
    "`__init__`: Must call the superclass `__init__` and provide a list of network parameters, `params`, to optimize and a dictionary of default values provided to each parameter group, `defaults`. \n",
    "\n",
    "`step`: Performs an update on the network parameters. \n",
    "\n",
    "The meat of your optimizer logic lies in the `step` method. In this method you should update your model parameters with the help of some useful internal datastructures. Let's define these to make the following code more clear.\n",
    "\n",
    "`self.param_groups`: When you initialize an optimizer object, you are required to provide the list of parameter objects to be optimized. In the case of `FashionModel`, there are 6 parameters -- each `Linear` layer has a weight matrix parameter and a bias vector. All of these 6 parameters are considered within a single `param_group`. This `group` will be a dictionary with an entry `params` that contains an iterable of all 6 parameters, as well as entries for all `defaults`. These `defaults` are generally useful for storing small values like hyperparameters that are standard across all parameter groups. There are more advanced cases where it can come in handy to have different values for certain entities depending on the `param_group`. \n",
    "\n",
    "`self.state`: This maintains state for a given parameter. Essentially it maps a parameter to a dictionary of data that you want to keep track of. This is useful in cases where you want to keep state on a per-parameter basis.\n",
    "\n",
    "**IMPORTANT**: Unlike most other use cases in PyTorch, operations on parameters and state data should be done inplace. This ensures that the updated parameters are not updated copies of the original. In the following sample implementations, you may see some unfamiliar operations. Functions like `torch.add_` and `torch.mul_` are just inplace analogues of standard PyTorch functions. See http://pytorch.org/docs/master/torch.html for further details.\n",
    "\n",
    "\n",
    "## Let's write our *Trainer*"
   ]
  },
  {
   "cell_type": "code",
   "execution_count": 6,
   "metadata": {},
   "outputs": [],
   "source": [
    "train_size = train_data.train_data.shape[0]\n",
    "val_size, train_size = int(0.20 * train_size), int(0.80 * train_size) # 80 / 20 train-val split\n",
    "test_size = test_data.test_data.shape[0]\n",
    "batch_size = 100\n",
    "\n",
    "# Add dataset to dataloader that handles batching\n",
    "train_loader = torch.utils.data.DataLoader(train_data, \n",
    "                                           batch_size=batch_size,\n",
    "                                           sampler=torch.utils.data.sampler.SubsetRandomSampler(np.arange(val_size, val_size+train_size)))\n",
    "val_loader = torch.utils.data.DataLoader(train_data, \n",
    "                                           batch_size=batch_size, \n",
    "                                           sampler=torch.utils.data.sampler.SubsetRandomSampler(np.arange(0, val_size)))\n",
    "test_loader = torch.utils.data.DataLoader(test_data, batch_size=batch_size, shuffle=False)\n",
    "\n",
    "# Setup metric class\n",
    "Metric = namedtuple('Metric', ['loss', 'train_error', 'val_error'])"
   ]
  },
  {
   "cell_type": "code",
   "execution_count": 7,
   "metadata": {},
   "outputs": [],
   "source": [
    "def inference(model, loader, n_members):\n",
    "    correct = 0\n",
    "    for data, label in loader:\n",
    "        X = Variable(data.view(-1, 784))\n",
    "        Y = Variable(label)\n",
    "        out = model(X)\n",
    "        pred = out.data.max(1, keepdim=True)[1]\n",
    "        predicted = pred.eq(Y.data.view_as(pred))\n",
    "        correct += predicted.sum()\n",
    "    return correct.numpy() / n_members\n",
    "\n",
    "class Trainer():\n",
    "    \"\"\" \n",
    "    A simple training cradle\n",
    "    \"\"\"\n",
    "    \n",
    "    def __init__(self, model, optimizer, load_path=None):\n",
    "        self.model = model\n",
    "        if load_path is not None:\n",
    "            self.model = torch.load(load_path)\n",
    "        self.optimizer = optimizer\n",
    "            \n",
    "    def save_model(self, path):\n",
    "        torch.save(self.model.state_dict(), path)\n",
    "\n",
    "    def run(self, epochs):\n",
    "        print(\"Start Training...\")\n",
    "        self.metrics = []\n",
    "        for e in range(n_epochs):\n",
    "            epoch_loss = 0\n",
    "            correct = 0\n",
    "            for batch_idx, (data, label) in enumerate(train_loader):\n",
    "                self.optimizer.zero_grad()\n",
    "                X = Variable(data.view(-1, 784))\n",
    "                Y = Variable(label)\n",
    "                out = self.model(X)\n",
    "                pred = out.data.max(1, keepdim=True)[1]\n",
    "                predicted = pred.eq(Y.data.view_as(pred))\n",
    "                correct += predicted.sum()\n",
    "                loss = F.nll_loss(out, Y)\n",
    "                loss.backward()\n",
    "                self.optimizer.step()\n",
    "                epoch_loss += loss.data[0]\n",
    "            total_loss = epoch_loss.numpy()/train_size\n",
    "            train_error = 1.0 - correct.numpy()/train_size\n",
    "            val_error = 1.0 - inference(self.model, val_loader, val_size)\n",
    "            print(\"epoch: {0}, loss: {1:.8f}\".format(e+1, total_loss))\n",
    "            self.metrics.append(Metric(loss=total_loss, \n",
    "                                  train_error=train_error,\n",
    "                                  val_error=val_error))\n",
    "         "
   ]
  },
  {
   "cell_type": "code",
   "execution_count": 8,
   "metadata": {},
   "outputs": [
    {
     "name": "stdout",
     "output_type": "stream",
     "text": [
      "SGD OPTIMIZER\n",
      "Start Training...\n"
     ]
    },
    {
     "name": "stderr",
     "output_type": "stream",
     "text": [
      "/anaconda3/envs/tf3/lib/python3.6/site-packages/ipykernel_launcher.py:11: UserWarning: Implicit dimension choice for log_softmax has been deprecated. Change the call to include dim=X as an argument.\n",
      "  # This is added back by InteractiveShellApp.init_path()\n",
      "/anaconda3/envs/tf3/lib/python3.6/site-packages/ipykernel_launcher.py:43: UserWarning: invalid index of a 0-dim tensor. This will be an error in PyTorch 0.5. Use tensor.item() to convert a 0-dim tensor to a Python number\n"
     ]
    },
    {
     "name": "stdout",
     "output_type": "stream",
     "text": [
      "epoch: 1, loss: 0.12873552\n",
      "epoch: 2, loss: 0.02345240\n",
      "epoch: 3, loss: 0.02074262\n",
      "epoch: 4, loss: 0.01942439\n",
      "epoch: 5, loss: 0.01835329\n",
      "epoch: 6, loss: 0.01766403\n",
      "epoch: 7, loss: 0.01695254\n",
      "epoch: 8, loss: 0.01645464\n",
      "\n",
      "ADAM OPTIMIZER\n",
      "Start Training...\n",
      "epoch: 1, loss: 0.26999099\n",
      "epoch: 2, loss: 0.01946122\n",
      "epoch: 3, loss: 0.01242979\n",
      "epoch: 4, loss: 0.00995855\n",
      "epoch: 5, loss: 0.00878618\n",
      "epoch: 6, loss: 0.00801902\n",
      "epoch: 7, loss: 0.00758505\n",
      "epoch: 8, loss: 0.00729035\n",
      "\n",
      "RMSPROP OPTIMIZER\n",
      "Start Training...\n",
      "epoch: 1, loss: 0.22505141\n",
      "epoch: 2, loss: 0.01458840\n",
      "epoch: 3, loss: 0.01202629\n",
      "epoch: 4, loss: 0.01174371\n",
      "epoch: 5, loss: 0.01005420\n",
      "epoch: 6, loss: 0.00986540\n",
      "epoch: 7, loss: 0.00877988\n",
      "epoch: 8, loss: 0.00779939\n",
      "\n",
      "Test accuracy of model optimizer with SGD: 39.85\n",
      "Test accuracy of model optimizer with Adam: 71.88\n",
      "Test accuracy of model optimizer with RMSProp: 61.99\n"
     ]
    }
   ],
   "source": [
    "### LET'S TRAIN ###\n",
    "\n",
    "# A function to apply \"normal\" distribution on the parameters\n",
    "def init_randn(m):\n",
    "    if type(m) == nn.Linear:\n",
    "        m.weight.data.normal_(0,1)\n",
    "\n",
    "# We first initialize a Fashion Object and initialize the parameters \"normally\".\n",
    "normalmodel = FashionModel()\n",
    "normalmodel.apply(init_randn)\n",
    "\n",
    "n_epochs = 8\n",
    "\n",
    "print(\"SGD OPTIMIZER\")\n",
    "SGDOptimizer = torch.optim.SGD(normalmodel.parameters(), lr=0.01)\n",
    "sgd_trainer = Trainer(normalmodel, SGDOptimizer)\n",
    "sgd_trainer.run(n_epochs)\n",
    "sgd_trainer.save_model('./sgd_model.pt')\n",
    "print('')\n",
    "\n",
    "\n",
    "print(\"ADAM OPTIMIZER\")\n",
    "normalmodel = FashionModel()\n",
    "normalmodel.apply(init_randn)\n",
    "AdamOptimizer = torch.optim.Adam(normalmodel.parameters(), lr=0.01)\n",
    "adam_trainer = Trainer(normalmodel, AdamOptimizer)\n",
    "adam_trainer.run(n_epochs)\n",
    "adam_trainer.save_model('./adam_model.pt')\n",
    "print('')\n",
    "\n",
    "\n",
    "print(\"RMSPROP OPTIMIZER\")\n",
    "normalmodel = FashionModel()\n",
    "normalmodel.apply(init_randn)\n",
    "RMSPropOptimizer = torch.optim.RMSprop(normalmodel.parameters(), lr=0.01)\n",
    "rms_trainer = Trainer(normalmodel, RMSPropOptimizer)\n",
    "rms_trainer.run(n_epochs)\n",
    "rms_trainer.save_model('./rmsprop_model.pt')\n",
    "print('')\n",
    "\n",
    "\n",
    "### TEST ###\n",
    "model = FashionModel()\n",
    "model.load_state_dict(torch.load('./sgd_model.pt'))\n",
    "test_acc = inference(model, test_loader, test_size)\n",
    "print(\"Test accuracy of model optimizer with SGD: {0:.2f}\".format(test_acc * 100))\n",
    "\n",
    "model = FashionModel()\n",
    "model.load_state_dict(torch.load('./adam_model.pt'))\n",
    "test_acc = inference(model, test_loader, test_size)\n",
    "print(\"Test accuracy of model optimizer with Adam: {0:.2f}\".format(test_acc * 100))\n",
    "\n",
    "model = FashionModel()\n",
    "model.load_state_dict(torch.load('./rmsprop_model.pt'))\n",
    "test_acc = inference(model, test_loader, test_size)\n",
    "print(\"Test accuracy of model optimizer with RMSProp: {0:.2f}\".format(test_acc * 100))"
   ]
  },
  {
   "cell_type": "code",
   "execution_count": 9,
   "metadata": {},
   "outputs": [
    {
     "data": {
      "image/png": "[encoded data removed]",
      "text/plain": [
       "<Figure size 432x288 with 1 Axes>"
      ]
     },
     "metadata": {},
     "output_type": "display_data"
    },
    {
     "data": {
      "image/png": "[encoded data removed]",
      "text/plain": [
       "<Figure size 432x288 with 1 Axes>"
      ]
     },
     "metadata": {},
     "output_type": "display_data"
    },
    {
     "data": {
      "image/png": "[encoded data removed]",
      "text/plain": [
       "<Figure size 432x288 with 1 Axes>"
      ]
     },
     "metadata": {},
     "output_type": "display_data"
    }
   ],
   "source": [
    "### VISUALIZATION ###\n",
    "def training_plot(metrics):\n",
    "    plt.figure(1)\n",
    "    plt.plot([m.loss for m in metrics], 'b')\n",
    "    plt.title('Training Loss')\n",
    "    plt.show()\n",
    "\n",
    "training_plot(sgd_trainer.metrics)\n",
    "training_plot(adam_trainer.metrics)\n",
    "training_plot(rms_trainer.metrics)"
   ]
  },
  {
   "cell_type": "markdown",
   "metadata": {},
   "source": [
    "## Parameter Initialization\n",
    "\n",
    "While training a network, the initial value of the weights plays a significant role. In the extreme case, an oracle could just set the weights directly to values that minimize the objective function, and in practical cases a good initialization can bring us to a more favorable starting position in the parameter space. \n",
    "\n",
    "This raises the question of how to choose these weights. \n",
    "\n",
    "- What happens if all the weights are set to zero? The gradients become zero, and the network finds itself without a direction. \n",
    "- What if all of them are set to the same non-zero value? Although the gradients are no longer zero, each neuron has the same weight and follows the same gradient. Such neurons will continue to have the same value, since they're identical. \n",
    "\n",
    "So any initialization scheme must break this symmetry somehow, and randomly initializing the weights is a first step in that direction.\n",
    "\n",
    "Let's begin with creating a weight initialization function that samples from **N(0,1)**. A clean way of initializing the weights is to access the network parameters by traversing all modules inside the network, and then applying the desired initialization. This method also allows us to encapsulate all the initializations into a single function."
   ]
  },
  {
   "cell_type": "code",
   "execution_count": 10,
   "metadata": {},
   "outputs": [],
   "source": [
    "def init_randn(m):\n",
    "    if type(m) == nn.Linear:\n",
    "        m.weight.data.normal_(0,1)"
   ]
  },
  {
   "cell_type": "markdown",
   "metadata": {},
   "source": [
    "Now let's use this scheme to initialize the network.\n",
    "\n",
    "Note that *apply(fn)* applies the function *fn* recursively to every submodule (as returned by .children()) as well as self. Also, since it is applied to itself as well, I must take care to select the appropriate type of module *m* and apply the initialization to it."
   ]
  },
  {
   "cell_type": "code",
   "execution_count": 11,
   "metadata": {
    "scrolled": false
   },
   "outputs": [
    {
     "data": {
      "text/plain": [
       "FashionModel(\n",
       "  (fc1): Linear(in_features=784, out_features=64, bias=True)\n",
       "  (fc2): Linear(in_features=64, out_features=32, bias=True)\n",
       "  (fc3): Linear(in_features=32, out_features=10, bias=True)\n",
       ")"
      ]
     },
     "execution_count": 11,
     "metadata": {},
     "output_type": "execute_result"
    }
   ],
   "source": [
    "normalmodel = FashionModel()\n",
    "normalmodel.apply(init_randn)"
   ]
  },
  {
   "cell_type": "markdown",
   "metadata": {},
   "source": [
    "## Custom initializations\n",
    "\n",
    "I should also choose a different way to initialize the weights, where you explicitly copy some values into the weights."
   ]
  },
  {
   "cell_type": "code",
   "execution_count": 12,
   "metadata": {},
   "outputs": [],
   "source": [
    "def init_custom(m):\n",
    "    if type(m) == nn.Linear:\n",
    "        rw = torch.randn(m.weight.data.size())\n",
    "        m.weight.data.copy_(rw)"
   ]
  },
  {
   "cell_type": "markdown",
   "metadata": {},
   "source": [
    "Now let's use this initialization scheme to implement Xavier initialization. \n",
    "\n",
    "Xavier initialization is a way of initializing the weights such that the variance of the inputs is the same as the variance of the outputs. At each layer, the fan_in and fan_out (i.e. input connections and output connections) might be different. To calculate the variance, you will multiply each weight with the inputs. Evidently, if the number of inputs is less, they will need to be multiplied with higher weights so that they can sum up to the product of a larger number of outputs with smaller weights. This is the intuition behind Xavier initialization.\n"
   ]
  },
  {
   "cell_type": "code",
   "execution_count": 13,
   "metadata": {},
   "outputs": [],
   "source": [
    "def init_xavier(m):\n",
    "    if type(m) == nn.Linear:\n",
    "        fan_in = m.weight.size()[1]\n",
    "        fan_out = m.weight.size()[0]\n",
    "        std = np.sqrt(2.0 / (fan_in + fan_out))\n",
    "        m.weight.data.normal_(0,std)"
   ]
  },
  {
   "cell_type": "code",
   "execution_count": 14,
   "metadata": {},
   "outputs": [
    {
     "data": {
      "text/plain": [
       "FashionModel(\n",
       "  (fc1): Linear(in_features=784, out_features=64, bias=True)\n",
       "  (fc2): Linear(in_features=64, out_features=32, bias=True)\n",
       "  (fc3): Linear(in_features=32, out_features=10, bias=True)\n",
       ")"
      ]
     },
     "execution_count": 14,
     "metadata": {},
     "output_type": "execute_result"
    }
   ],
   "source": [
    "xaviermodel = FashionModel()\n",
    "xaviermodel.apply(init_xavier)"
   ]
  },
  {
   "cell_type": "code",
   "execution_count": 15,
   "metadata": {},
   "outputs": [
    {
     "name": "stdout",
     "output_type": "stream",
     "text": [
      "NORMAL INIT WEIGHTS\n",
      "Start Training...\n"
     ]
    },
    {
     "name": "stderr",
     "output_type": "stream",
     "text": [
      "/anaconda3/envs/tf3/lib/python3.6/site-packages/ipykernel_launcher.py:11: UserWarning: Implicit dimension choice for log_softmax has been deprecated. Change the call to include dim=X as an argument.\n",
      "  # This is added back by InteractiveShellApp.init_path()\n",
      "/anaconda3/envs/tf3/lib/python3.6/site-packages/ipykernel_launcher.py:43: UserWarning: invalid index of a 0-dim tensor. This will be an error in PyTorch 0.5. Use tensor.item() to convert a 0-dim tensor to a Python number\n"
     ]
    },
    {
     "name": "stdout",
     "output_type": "stream",
     "text": [
      "epoch: 1, loss: 1.30572266\n",
      "epoch: 2, loss: 0.41340820\n",
      "epoch: 3, loss: 0.24266518\n",
      "\n",
      "XAVIER INIT WEIGHTS\n",
      "Start Training...\n",
      "epoch: 1, loss: 0.00534021\n",
      "epoch: 2, loss: 0.00380051\n",
      "epoch: 3, loss: 0.00343334\n",
      "\n"
     ]
    }
   ],
   "source": [
    "### LET'S TRAIN ###\n",
    "n_epochs = 3\n",
    "\n",
    "print(\"NORMAL INIT WEIGHTS\")\n",
    "AdamOptimizer = torch.optim.Adam(normalmodel.parameters(), lr=0.001)\n",
    "normal_trainer = Trainer(normalmodel, AdamOptimizer)\n",
    "normal_trainer.run(n_epochs)\n",
    "normal_trainer.save_model('./normal_model.pt')\n",
    "print('')\n",
    "\n",
    "\n",
    "print(\"XAVIER INIT WEIGHTS\")\n",
    "AdamOptimizer = torch.optim.Adam(xaviermodel.parameters(), lr=0.001)\n",
    "xavier_trainer = Trainer(xaviermodel, AdamOptimizer)\n",
    "xavier_trainer.run(n_epochs)\n",
    "xavier_trainer.save_model('./xavier_model.pt')\n",
    "print('')"
   ]
  },
  {
   "cell_type": "code",
   "execution_count": 16,
   "metadata": {},
   "outputs": [
    {
     "data": {
      "image/png": "[encoded data removed]",
      "text/plain": [
       "<Figure size 432x288 with 1 Axes>"
      ]
     },
     "metadata": {},
     "output_type": "display_data"
    },
    {
     "data": {
      "image/png": "[encoded data removed]",
      "text/plain": [
       "<Figure size 432x288 with 1 Axes>"
      ]
     },
     "metadata": {},
     "output_type": "display_data"
    }
   ],
   "source": [
    "### VISUALIZATION ###\n",
    "def training_plot(metrics):\n",
    "    plt.figure(1)\n",
    "    plt.plot([m.loss for m in metrics], 'b')\n",
    "    plt.title('Training Loss')\n",
    "    plt.show()\n",
    "\n",
    "training_plot(normal_trainer.metrics)\n",
    "training_plot(xavier_trainer.metrics)"
   ]
  },
  {
   "cell_type": "markdown",
   "metadata": {},
   "source": [
    "## Using pretrained weights\n",
    "\n",
    "In the previous section we saw that initializations can start the training from a good spot. In addition to these schemes, you might also need to have specific methods to initialize the weights in different layers. For example, you might want to use a pretrained model like Alexnet to give your network a head start for visual recognition tasks. Let's load the pretrained Alexnet model and see how it works."
   ]
  },
  {
   "cell_type": "code",
   "execution_count": 17,
   "metadata": {},
   "outputs": [],
   "source": [
    "alexnet_model = models.alexnet(pretrained=True)"
   ]
  },
  {
   "cell_type": "markdown",
   "metadata": {},
   "source": [
    "## Adding Momentum\n",
    "\n",
    "I shall make use of the `self.state` data-structure to maintain a copy of an accumulated gradient that we also decay at each step. Once again we use inplace operations to avoid unneccesary buffer allocation. Recall a standard update with momentum given decay rate $\\mu$.\n",
    "\n",
    "$$ \\begin{align}\n",
    "\\textbf{V'} &= \\mu \\textbf{V} - \\eta \\nabla L(\\textbf{W})\\\\\n",
    "\\textbf{W'} &= \\textbf{W} + \\textbf{V'}\\\\\n",
    "\\end{align}\n",
    "$$"
   ]
  },
  {
   "cell_type": "markdown",
   "metadata": {},
   "source": [
    "## Batch Normalization\n",
    "\n",
    "Batch normalization is a relatively simple but significant improvement in training neural networks. In machine learning, *covariate shift* is a phenomenon in which the covariate distribution is non-stationary over the course of training. This is a common phenomenon in online learning. When training a neural network on a fixed dataset, there is no covariate shift (excluding sample noise from minibatch approximation), but the distribution of individual node and layer activity shifts as the network parameters are updated. As an abstraction, we can consider each node's activity to be a covariate of the following nodes in the network. Thus we can think of the non-stationarity of node (and layer) activations as a sort of *internal covariate shift*. \n",
    "\n",
    "Why is internal covariate shift a problem? Each subsequent layer has to account for a shifting distribution of its inputs. For saturating non-linearities the problem becomes even more dire, as the shift in activity will more likely place the unit output in the saturated region of the non-linearity.\n",
    "\n"
   ]
  },
  {
   "cell_type": "code",
   "execution_count": null,
   "metadata": {},
   "outputs": [],
   "source": [
    "class BatchNorm(nn.Module):\n",
    "\n",
    "    def __init__(self, num_features):\n",
    "        super(BatchNorm, self).__init__()\n",
    "        self.num_features = num_features\n",
    "        self.affine = affine\n",
    "        self.weight = Parameter(torch.Tensor(num_features))\n",
    "        self.bias = Parameter(torch.Tensor(num_features))\n",
    "        self.register_buffer('running_mean', torch.zeros(num_features))\n",
    "        self.register_buffer('running_var', torch.ones(num_features))\n",
    "        self.reset_parameters()\n",
    "\n",
    "    def reset_parameters(self):\n",
    "        self.running_mean.zero_()\n",
    "        self.running_var.fill_(1)\n",
    "        self.weight.data.uniform_()\n",
    "        self.bias.data.zero_()\n",
    "\n",
    "    def forward(self, x):\n",
    "        pass"
   ]
  },
  {
   "cell_type": "markdown",
   "metadata": {},
   "source": [
    "## Overfitting\n",
    "Deep neural networks contain multiple non-linear hidden layers and this makes them very\n",
    "expressive models that can learn very complicated relationships between their inputs and\n",
    "outputs. With limited training data, however, many of these complicated relationships\n",
    "will be the result of sampling noise, so they will exist in the training set but not in real\n",
    "test data even if it is drawn from the same distribution. This leads to overfitting and many\n",
    "methods have been developed for reducing it.\n",
    "\n",
    "## Dropout\n",
    "Dropout is a regularization technique for reducing overfitting in neural networks by preventing complex co-adaptations on training data. It is a very efficient way of performing model averaging with neural networks. The term \"dropout\" refers to dropping out units in a neural network.\n",
    "\n",
    "## Regularization (weight_decay)\n",
    "\n",
    "Weight decay specifies regularization in the neural network.\n",
    "During training, a regularization term is added to the network's loss to compute the backpropagation gradient. The weight decay value determines how dominant this regularization term will be in the gradient computation.\n",
    "\n",
    "As a rule of thumb, the more training examples you have, the weaker this term should be. The more parameters you have the higher this term should be.\n"
   ]
  },
  {
   "cell_type": "code",
   "execution_count": 18,
   "metadata": {},
   "outputs": [
    {
     "name": "stdout",
     "output_type": "stream",
     "text": [
      "FashionModel_Tricks(\n",
      "  (fc1): Linear(in_features=784, out_features=64, bias=True)\n",
      "  (bnorm1): BatchNorm1d(64, eps=1e-05, momentum=0.1, affine=True, track_running_stats=True)\n",
      "  (dp1): Dropout(p=0.2)\n",
      "  (fc2): Linear(in_features=64, out_features=32, bias=True)\n",
      "  (bnorm2): BatchNorm1d(32, eps=1e-05, momentum=0.1, affine=True, track_running_stats=True)\n",
      "  (dp2): Dropout(p=0.1)\n",
      "  (fc3): Linear(in_features=32, out_features=10, bias=True)\n",
      ")\n"
     ]
    }
   ],
   "source": [
    "class FashionModel_Tricks(nn.Module):\n",
    "    \n",
    "    def __init__(self):\n",
    "        super(FashionModel_Tricks, self).__init__()\n",
    "        self.fc1 = nn.Linear(784, 64)\n",
    "        self.bnorm1 = nn.BatchNorm1d(64)\n",
    "        self.dp1 = nn.Dropout(p=0.2)\n",
    "        self.fc2 = nn.Linear(64, 32)\n",
    "        self.bnorm2 = nn.BatchNorm1d(32)\n",
    "        self.dp2 = nn.Dropout(p=0.1)\n",
    "        self.fc3 = nn.Linear(32, 10)\n",
    "    \n",
    "    def forward(self, x):\n",
    "        x = F.relu(self.fc1(x))\n",
    "        x = self.dp1(self.bnorm1(x))\n",
    "        x = F.relu(self.fc2(x))\n",
    "        x = self.dp2(self.bnorm2(x))\n",
    "        x = F.log_softmax(self.fc3(x))\n",
    "        return x\n",
    "print(FashionModel_Tricks())"
   ]
  },
  {
   "cell_type": "code",
   "execution_count": null,
   "metadata": {},
   "outputs": [],
   "source": [
    "### TRAIN MODELS WITH BATCHNORM AND DROPOUT ###\n",
    "n_epochs = 10\n",
    "\n",
    "model = FashionModel_Tricks()\n",
    "optimizer = torch.optim.SGD(model.parameters(), lr = 0.001, momentum = 0.9, weight_decay = 0.001)\n",
    "btrainer = Trainer(model, optimizer)\n",
    "btrainer.run(n_epochs)\n",
    "btrainer.save_model('./dropout-batchnorm_optimized_model.pt')\n",
    "\n",
    "training_plot(vtrainer.metrics)\n",
    "training_plot(btrainer.metrics)\n",
    "\n",
    "print('')"
   ]
  },
  {
   "cell_type": "markdown",
   "metadata": {},
   "source": [
    "## Gradient Clipping\n",
    "\n",
    "During experimentation, once the gradient value grows extremely large, it causes an overflow (i.e. NaN) which is easily detectable at runtime or in a less extreme situation, the Model starts overshooting past our Minima; this issue is called the Gradient Explosion Problem.\n",
    "\n",
    "Gradient clipping will ‘clip’ the gradients or cap them to a Threshold value to prevent the gradients from getting too large."
   ]
  },
  {
   "cell_type": "code",
   "execution_count": null,
   "metadata": {},
   "outputs": [],
   "source": [
    "#Gradient Clipping \n",
    "# `clip_grad_norm` helps prevent the exploding gradient problem. To be used before optimizer.step()during training\n",
    "torch.nn.utils.clip_grad_norm(model.parameters(), 0.25)"
   ]
  },
  {
   "cell_type": "markdown",
   "metadata": {},
   "source": [
    "## Annealing Learning Rate\n",
    "In training deep networks, it is usually helpful to anneal the learning rate over time. Good intuition to have in mind is that with a high learning rate, the system contains too much kinetic energy and the parameter vector bounces around chaotically, unable to settle down into deeper, but narrower parts of the loss function. Knowing when to decay the learning rate can be tricky: Decay it slowly and you’ll be wasting computation bouncing around chaotically with little improvement for a long time. But decay it too aggressively and the system will cool too quickly, unable to reach the best position it can. One way of doing it is using step decay. Step decay schedule drops the learning rate by a factor every few epochs. The mathematical form of step decay is:\n",
    "\n",
    "$$\\eta = \\eta_0 * drop^{\\floor ( \\frac{epoch}{epochs\\_drop})}$$"
   ]
  },
  {
   "cell_type": "code",
   "execution_count": null,
   "metadata": {},
   "outputs": [],
   "source": [
    "def step_decay(epoch):\n",
    "    initial_lrate = 0.1\n",
    "    drop = 0.5\n",
    "    epochs_drop = 10.0\n",
    "    lrate = initial_lrate * math.pow(drop,  \n",
    "           math.floor((1+epoch)/epochs_drop))\n",
    "    return lrate"
   ]
  }
 ],
 "metadata": {
  "kernelspec": {
   "display_name": "Python 3",
   "language": "python",
   "name": "python3"
  },
  "language_info": {
   "codemirror_mode": {
    "name": "ipython",
    "version": 3
   },
   "file_extension": ".py",
   "mimetype": "text/x-python",
   "name": "python",
   "nbconvert_exporter": "python",
   "pygments_lexer": "ipython3",
   "version": "3.7.1"
  }
 },
 "nbformat": 4,
 "nbformat_minor": 2
}
